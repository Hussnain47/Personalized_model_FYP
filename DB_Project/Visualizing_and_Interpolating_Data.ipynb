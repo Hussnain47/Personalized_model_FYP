{
 "cells": [
  {
   "cell_type": "markdown",
   "metadata": {},
   "source": [
    "# Visualization"
   ]
  },
  {
   "cell_type": "markdown",
   "metadata": {},
   "source": [
    "The first part of this notebook focuses on Visualizing the data"
   ]
  },
  {
   "cell_type": "code",
   "execution_count": 36,
   "metadata": {},
   "outputs": [],
   "source": [
    "import json\n",
    "import matplotlib.pyplot as plt\n",
    "import datetime\n",
    "import pandas as pd"
   ]
  },
  {
   "cell_type": "code",
   "execution_count": 37,
   "metadata": {},
   "outputs": [],
   "source": [
    "dfHeart = pd.read_json('heartData.json')"
   ]
  },
  {
   "cell_type": "markdown",
   "metadata": {},
   "source": [
    "Hours in miliseconds to window data for visualization"
   ]
  },
  {
   "cell_type": "code",
   "execution_count": 38,
   "metadata": {},
   "outputs": [],
   "source": [
    "hourInMillis = 10**3*60*60"
   ]
  },
  {
   "cell_type": "code",
   "execution_count": 201,
   "metadata": {
    "scrolled": true
   },
   "outputs": [
    {
     "data": {
      "text/plain": [
       "[<matplotlib.lines.Line2D at 0x12697fe2488>]"
      ]
     },
     "execution_count": 201,
     "metadata": {},
     "output_type": "execute_result"
    },
    {
     "data": {
      "image/png": "[encoded data removed]",
      "text/plain": [
       "<Figure size 432x288 with 1 Axes>"
      ]
     },
     "metadata": {
      "needs_background": "light"
     },
     "output_type": "display_data"
    }
   ],
   "source": [
    "plt.title(\"Heart Rate bpm\")\n",
    "plt.xlabel(\"Time\")\n",
    "plt.ylabel(\"Bpm\")\n",
    "plt.plot(\n",
    "    df.loc[(df[\"timeNanos\"] < 1649444460000+hourInMillis*12)].iloc[:,0]\n",
    "    ,df.loc[(df[\"timeNanos\"] < 1649444460000+hourInMillis*12)].iloc[:,1])"
   ]
  },
  {
   "cell_type": "code",
   "execution_count": 40,
   "metadata": {},
   "outputs": [],
   "source": [
    "dfSleep = pd.read_json('sleepData.json')"
   ]
  },
  {
   "cell_type": "code",
   "execution_count": 41,
   "metadata": {
    "scrolled": true
   },
   "outputs": [],
   "source": [
    "dfSleep[\"duration\"] = dfSleep[\"endTimeNanos\"]- dfSleep[\"startTimeNanos\"]"
   ]
  },
  {
   "cell_type": "code",
   "execution_count": 42,
   "metadata": {},
   "outputs": [
    {
     "data": {
      "text/plain": [
       "<matplotlib.collections.PathCollection at 0x12695a70608>"
      ]
     },
     "execution_count": 42,
     "metadata": {},
     "output_type": "execute_result"
    },
    {
     "data": {
      "image/png": "[encoded data removed]",
      "text/plain": [
       "<Figure size 432x288 with 1 Axes>"
      ]
     },
     "metadata": {
      "needs_background": "light"
     },
     "output_type": "display_data"
    }
   ],
   "source": [
    "plt.scatter(\n",
    "    dfSleep.loc[(dfSleep[\"startTimeNanos\"] < 1649444460000+hourInMillis*12)].iloc[:,0]\n",
    "    ,dfSleep.loc[(dfSleep[\"startTimeNanos\"] < 1649444460000+hourInMillis*12)].iloc[:,-1])"
   ]
  },
  {
   "cell_type": "code",
   "execution_count": 43,
   "metadata": {},
   "outputs": [],
   "source": [
    "dfHeart.rename(columns={'startTimeNanos': 'timeNanos'}, inplace=True)"
   ]
  },
  {
   "cell_type": "code",
   "execution_count": 187,
   "metadata": {},
   "outputs": [],
   "source": [
    "df = pd.DataFrame()"
   ]
  },
  {
   "cell_type": "code",
   "execution_count": 127,
   "metadata": {},
   "outputs": [],
   "source": [
    "df[\"timeNanos\"] = dfHeart[\"timeNanos\"]"
   ]
  },
  {
   "cell_type": "code",
   "execution_count": 128,
   "metadata": {},
   "outputs": [],
   "source": [
    "df[\"value\"] = dfHeart[\"value\"]"
   ]
  },
  {
   "cell_type": "code",
   "execution_count": 133,
   "metadata": {},
   "outputs": [
    {
     "data": {
      "text/html": [
       "<div>\n",
       "<style scoped>\n",
       "    .dataframe tbody tr th:only-of-type {\n",
       "        vertical-align: middle;\n",
       "    }\n",
       "\n",
       "    .dataframe tbody tr th {\n",
       "        vertical-align: top;\n",
       "    }\n",
       "\n",
       "    .dataframe thead th {\n",
       "        text-align: right;\n",
       "    }\n",
       "</style>\n",
       "<table border=\"1\" class=\"dataframe\">\n",
       "  <thead>\n",
       "    <tr style=\"text-align: right;\">\n",
       "      <th></th>\n",
       "    </tr>\n",
       "  </thead>\n",
       "  <tbody>\n",
       "  </tbody>\n",
       "</table>\n",
       "</div>"
      ],
      "text/plain": [
       "Empty DataFrame\n",
       "Columns: []\n",
       "Index: []"
      ]
     },
     "execution_count": 133,
     "metadata": {},
     "output_type": "execute_result"
    }
   ],
   "source": [
    "df"
   ]
  },
  {
   "cell_type": "code",
   "execution_count": 188,
   "metadata": {},
   "outputs": [],
   "source": [
    "i = 0\n",
    "for time in range(1649444460000,1650557611729,60000):\n",
    "    df.at[i,\"timeNanos\"] = time\n",
    "    i += 1"
   ]
  },
  {
   "cell_type": "code",
   "execution_count": 190,
   "metadata": {},
   "outputs": [],
   "source": [
    "temp =df.copy()"
   ]
  },
  {
   "cell_type": "code",
   "execution_count": 191,
   "metadata": {},
   "outputs": [],
   "source": [
    "for i in range(len(dfHeart[\"timeNanos\"])):\n",
    "    df.at[df[\"timeNanos\"]==dfHeart[\"timeNanos\"][i],\"value\"] = dfHeart[\"value\"][i]"
   ]
  },
  {
   "cell_type": "code",
   "execution_count": 192,
   "metadata": {},
   "outputs": [
    {
     "data": {
      "text/html": [
       "<div>\n",
       "<style scoped>\n",
       "    .dataframe tbody tr th:only-of-type {\n",
       "        vertical-align: middle;\n",
       "    }\n",
       "\n",
       "    .dataframe tbody tr th {\n",
       "        vertical-align: top;\n",
       "    }\n",
       "\n",
       "    .dataframe thead th {\n",
       "        text-align: right;\n",
       "    }\n",
       "</style>\n",
       "<table border=\"1\" class=\"dataframe\">\n",
       "  <thead>\n",
       "    <tr style=\"text-align: right;\">\n",
       "      <th></th>\n",
       "      <th>timeNanos</th>\n",
       "      <th>value</th>\n",
       "    </tr>\n",
       "  </thead>\n",
       "  <tbody>\n",
       "    <tr>\n",
       "      <td>0</td>\n",
       "      <td>1.649444e+12</td>\n",
       "      <td>86.0</td>\n",
       "    </tr>\n",
       "  </tbody>\n",
       "</table>\n",
       "</div>"
      ],
      "text/plain": [
       "      timeNanos  value\n",
       "0  1.649444e+12   86.0"
      ]
     },
     "execution_count": 192,
     "metadata": {},
     "output_type": "execute_result"
    }
   ],
   "source": [
    "df.loc[df[\"timeNanos\"]==1649444460000]"
   ]
  },
  {
   "cell_type": "code",
   "execution_count": 183,
   "metadata": {},
   "outputs": [
    {
     "data": {
      "text/html": [
       "<div>\n",
       "<style scoped>\n",
       "    .dataframe tbody tr th:only-of-type {\n",
       "        vertical-align: middle;\n",
       "    }\n",
       "\n",
       "    .dataframe tbody tr th {\n",
       "        vertical-align: top;\n",
       "    }\n",
       "\n",
       "    .dataframe thead th {\n",
       "        text-align: right;\n",
       "    }\n",
       "</style>\n",
       "<table border=\"1\" class=\"dataframe\">\n",
       "  <thead>\n",
       "    <tr style=\"text-align: right;\">\n",
       "      <th></th>\n",
       "      <th>timeNanos</th>\n",
       "      <th>value</th>\n",
       "      <th>startTimeNanos</th>\n",
       "      <th>endTimeNanos</th>\n",
       "      <th>duration</th>\n",
       "      <th>isSleep</th>\n",
       "    </tr>\n",
       "  </thead>\n",
       "  <tbody>\n",
       "    <tr>\n",
       "      <td>0</td>\n",
       "      <td>1.649444e+12</td>\n",
       "      <td>86.0</td>\n",
       "      <td>NaN</td>\n",
       "      <td>NaN</td>\n",
       "      <td>NaN</td>\n",
       "      <td>NaN</td>\n",
       "    </tr>\n",
       "    <tr>\n",
       "      <td>1</td>\n",
       "      <td>1.649445e+12</td>\n",
       "      <td>88.0</td>\n",
       "      <td>NaN</td>\n",
       "      <td>NaN</td>\n",
       "      <td>NaN</td>\n",
       "      <td>NaN</td>\n",
       "    </tr>\n",
       "    <tr>\n",
       "      <td>2</td>\n",
       "      <td>1.649445e+12</td>\n",
       "      <td>82.0</td>\n",
       "      <td>NaN</td>\n",
       "      <td>NaN</td>\n",
       "      <td>NaN</td>\n",
       "      <td>NaN</td>\n",
       "    </tr>\n",
       "    <tr>\n",
       "      <td>3</td>\n",
       "      <td>1.649445e+12</td>\n",
       "      <td>86.0</td>\n",
       "      <td>NaN</td>\n",
       "      <td>NaN</td>\n",
       "      <td>NaN</td>\n",
       "      <td>NaN</td>\n",
       "    </tr>\n",
       "    <tr>\n",
       "      <td>4</td>\n",
       "      <td>1.649445e+12</td>\n",
       "      <td>70.0</td>\n",
       "      <td>NaN</td>\n",
       "      <td>NaN</td>\n",
       "      <td>NaN</td>\n",
       "      <td>NaN</td>\n",
       "    </tr>\n",
       "  </tbody>\n",
       "</table>\n",
       "</div>"
      ],
      "text/plain": [
       "      timeNanos  value  startTimeNanos  endTimeNanos  duration isSleep\n",
       "0  1.649444e+12   86.0             NaN           NaN       NaN     NaN\n",
       "1  1.649445e+12   88.0             NaN           NaN       NaN     NaN\n",
       "2  1.649445e+12   82.0             NaN           NaN       NaN     NaN\n",
       "3  1.649445e+12   86.0             NaN           NaN       NaN     NaN\n",
       "4  1.649445e+12   70.0             NaN           NaN       NaN     NaN"
      ]
     },
     "execution_count": 183,
     "metadata": {},
     "output_type": "execute_result"
    }
   ],
   "source": [
    "df.head()"
   ]
  },
  {
   "cell_type": "code",
   "execution_count": 158,
   "metadata": {},
   "outputs": [],
   "source": [
    "d = df.copy()"
   ]
  },
  {
   "cell_type": "code",
   "execution_count": 197,
   "metadata": {},
   "outputs": [],
   "source": [
    "df = df.interpolate(method ='linear', limit_direction ='forward')"
   ]
  },
  {
   "cell_type": "code",
   "execution_count": 198,
   "metadata": {},
   "outputs": [
    {
     "data": {
      "text/plain": [
       "False"
      ]
     },
     "execution_count": 198,
     "metadata": {},
     "output_type": "execute_result"
    }
   ],
   "source": [
    "df.iloc[:,1].isnull().any()"
   ]
  },
  {
   "cell_type": "code",
   "execution_count": 64,
   "metadata": {},
   "outputs": [],
   "source": [
    "df[\"startTimeNanos\"] = [0]*len(df[\"timeNanos\"])\n",
    "df[\"endTimeNanos\"] = [0]*len(df[\"timeNanos\"])\n",
    "df[\"duration\"] = [0]*len(df[\"timeNanos\"])\n",
    "df[\"isSleep\"] = [False]*len(df[\"timeNanos\"])"
   ]
  },
  {
   "cell_type": "code",
   "execution_count": 202,
   "metadata": {},
   "outputs": [],
   "source": [
    "for i in range(len(df[\"timeNanos\"])):\n",
    "    for j in range(len(dfSleep[\"startTimeNanos\"])):\n",
    "        if(df[\"timeNanos\"][i] > dfSleep[\"startTimeNanos\"][j] and df[\"timeNanos\"][i] < dfSleep[\"endTimeNanos\"][j]):\n",
    "            \n",
    "            df.at[i,\"startTimeNanos\"] = dfSleep[\"startTimeNanos\"][j]\n",
    "            df.at[i,\"endTimeNanos\"] = dfSleep[\"endTimeNanos\"][j]\n",
    "            df.at[i,\"duration\"] = dfSleep[\"duration\"][j]\n",
    "            df.at[i,\"isSleep\"] = True\n",
    "            \n",
    "        "
   ]
  },
  {
   "cell_type": "code",
   "execution_count": 103,
   "metadata": {},
   "outputs": [],
   "source": [
    "df[\"isSleep\"] = df.iloc[:,-1].isnull()"
   ]
  },
  {
   "cell_type": "code",
   "execution_count": 216,
   "metadata": {},
   "outputs": [],
   "source": [
    "df.loc[:10985].to_csv(\"interpolatedData.csv\")"
   ]
  },
  {
   "cell_type": "code",
   "execution_count": 211,
   "metadata": {},
   "outputs": [],
   "source": [
    "d = df.copy()"
   ]
  },
  {
   "cell_type": "code",
   "execution_count": 214,
   "metadata": {},
   "outputs": [],
   "source": [
    "df[\"value\"] = round(df[\"value\"])"
   ]
  },
  {
   "cell_type": "code",
   "execution_count": null,
   "metadata": {},
   "outputs": [],
   "source": []
  },
  {
   "cell_type": "code",
   "execution_count": 217,
   "metadata": {},
   "outputs": [
    {
     "data": {
      "text/html": [
       "<div>\n",
       "<style scoped>\n",
       "    .dataframe tbody tr th:only-of-type {\n",
       "        vertical-align: middle;\n",
       "    }\n",
       "\n",
       "    .dataframe tbody tr th {\n",
       "        vertical-align: top;\n",
       "    }\n",
       "\n",
       "    .dataframe thead th {\n",
       "        text-align: right;\n",
       "    }\n",
       "</style>\n",
       "<table border=\"1\" class=\"dataframe\">\n",
       "  <thead>\n",
       "    <tr style=\"text-align: right;\">\n",
       "      <th></th>\n",
       "      <th>timeNanos</th>\n",
       "      <th>value</th>\n",
       "      <th>startTimeNanos</th>\n",
       "      <th>endTimeNanos</th>\n",
       "      <th>duration</th>\n",
       "      <th>isSleep</th>\n",
       "    </tr>\n",
       "  </thead>\n",
       "  <tbody>\n",
       "    <tr>\n",
       "      <td>25</td>\n",
       "      <td>1.649446e+12</td>\n",
       "      <td>84.0</td>\n",
       "      <td>1.649446e+12</td>\n",
       "      <td>1.649446e+12</td>\n",
       "      <td>540000.0</td>\n",
       "      <td>True</td>\n",
       "    </tr>\n",
       "    <tr>\n",
       "      <td>26</td>\n",
       "      <td>1.649446e+12</td>\n",
       "      <td>83.0</td>\n",
       "      <td>1.649446e+12</td>\n",
       "      <td>1.649446e+12</td>\n",
       "      <td>540000.0</td>\n",
       "      <td>True</td>\n",
       "    </tr>\n",
       "    <tr>\n",
       "      <td>27</td>\n",
       "      <td>1.649446e+12</td>\n",
       "      <td>83.0</td>\n",
       "      <td>1.649446e+12</td>\n",
       "      <td>1.649446e+12</td>\n",
       "      <td>540000.0</td>\n",
       "      <td>True</td>\n",
       "    </tr>\n",
       "    <tr>\n",
       "      <td>28</td>\n",
       "      <td>1.649446e+12</td>\n",
       "      <td>83.0</td>\n",
       "      <td>1.649446e+12</td>\n",
       "      <td>1.649446e+12</td>\n",
       "      <td>540000.0</td>\n",
       "      <td>True</td>\n",
       "    </tr>\n",
       "    <tr>\n",
       "      <td>29</td>\n",
       "      <td>1.649446e+12</td>\n",
       "      <td>83.0</td>\n",
       "      <td>1.649446e+12</td>\n",
       "      <td>1.649446e+12</td>\n",
       "      <td>540000.0</td>\n",
       "      <td>True</td>\n",
       "    </tr>\n",
       "    <tr>\n",
       "      <td>...</td>\n",
       "      <td>...</td>\n",
       "      <td>...</td>\n",
       "      <td>...</td>\n",
       "      <td>...</td>\n",
       "      <td>...</td>\n",
       "      <td>...</td>\n",
       "    </tr>\n",
       "    <tr>\n",
       "      <td>10981</td>\n",
       "      <td>1.650103e+12</td>\n",
       "      <td>79.0</td>\n",
       "      <td>1.650101e+12</td>\n",
       "      <td>1.650104e+12</td>\n",
       "      <td>2460000.0</td>\n",
       "      <td>True</td>\n",
       "    </tr>\n",
       "    <tr>\n",
       "      <td>10982</td>\n",
       "      <td>1.650103e+12</td>\n",
       "      <td>79.0</td>\n",
       "      <td>1.650101e+12</td>\n",
       "      <td>1.650104e+12</td>\n",
       "      <td>2460000.0</td>\n",
       "      <td>True</td>\n",
       "    </tr>\n",
       "    <tr>\n",
       "      <td>10983</td>\n",
       "      <td>1.650103e+12</td>\n",
       "      <td>79.0</td>\n",
       "      <td>1.650101e+12</td>\n",
       "      <td>1.650104e+12</td>\n",
       "      <td>2460000.0</td>\n",
       "      <td>True</td>\n",
       "    </tr>\n",
       "    <tr>\n",
       "      <td>10984</td>\n",
       "      <td>1.650104e+12</td>\n",
       "      <td>79.0</td>\n",
       "      <td>1.650101e+12</td>\n",
       "      <td>1.650104e+12</td>\n",
       "      <td>2460000.0</td>\n",
       "      <td>True</td>\n",
       "    </tr>\n",
       "    <tr>\n",
       "      <td>10985</td>\n",
       "      <td>1.650104e+12</td>\n",
       "      <td>79.0</td>\n",
       "      <td>1.650101e+12</td>\n",
       "      <td>1.650104e+12</td>\n",
       "      <td>2460000.0</td>\n",
       "      <td>True</td>\n",
       "    </tr>\n",
       "  </tbody>\n",
       "</table>\n",
       "<p>3355 rows × 6 columns</p>\n",
       "</div>"
      ],
      "text/plain": [
       "          timeNanos  value  startTimeNanos  endTimeNanos   duration isSleep\n",
       "25     1.649446e+12   84.0    1.649446e+12  1.649446e+12   540000.0    True\n",
       "26     1.649446e+12   83.0    1.649446e+12  1.649446e+12   540000.0    True\n",
       "27     1.649446e+12   83.0    1.649446e+12  1.649446e+12   540000.0    True\n",
       "28     1.649446e+12   83.0    1.649446e+12  1.649446e+12   540000.0    True\n",
       "29     1.649446e+12   83.0    1.649446e+12  1.649446e+12   540000.0    True\n",
       "...             ...    ...             ...           ...        ...     ...\n",
       "10981  1.650103e+12   79.0    1.650101e+12  1.650104e+12  2460000.0    True\n",
       "10982  1.650103e+12   79.0    1.650101e+12  1.650104e+12  2460000.0    True\n",
       "10983  1.650103e+12   79.0    1.650101e+12  1.650104e+12  2460000.0    True\n",
       "10984  1.650104e+12   79.0    1.650101e+12  1.650104e+12  2460000.0    True\n",
       "10985  1.650104e+12   79.0    1.650101e+12  1.650104e+12  2460000.0    True\n",
       "\n",
       "[3355 rows x 6 columns]"
      ]
     },
     "execution_count": 217,
     "metadata": {},
     "output_type": "execute_result"
    }
   ],
   "source": [
    "df[df[\"isSleep\"].isnull() != True]"
   ]
  },
  {
   "cell_type": "code",
   "execution_count": 208,
   "metadata": {},
   "outputs": [
    {
     "data": {
      "text/html": [
       "<div>\n",
       "<style scoped>\n",
       "    .dataframe tbody tr th:only-of-type {\n",
       "        vertical-align: middle;\n",
       "    }\n",
       "\n",
       "    .dataframe tbody tr th {\n",
       "        vertical-align: top;\n",
       "    }\n",
       "\n",
       "    .dataframe thead th {\n",
       "        text-align: right;\n",
       "    }\n",
       "</style>\n",
       "<table border=\"1\" class=\"dataframe\">\n",
       "  <thead>\n",
       "    <tr style=\"text-align: right;\">\n",
       "      <th></th>\n",
       "      <th>timeNanos</th>\n",
       "      <th>value</th>\n",
       "      <th>startTimeNanos</th>\n",
       "      <th>endTimeNanos</th>\n",
       "      <th>duration</th>\n",
       "      <th>isSleep</th>\n",
       "    </tr>\n",
       "  </thead>\n",
       "  <tbody>\n",
       "    <tr>\n",
       "      <td>0</td>\n",
       "      <td>1.649444e+12</td>\n",
       "      <td>86.000000</td>\n",
       "      <td>NaN</td>\n",
       "      <td>NaN</td>\n",
       "      <td>NaN</td>\n",
       "      <td>NaN</td>\n",
       "    </tr>\n",
       "    <tr>\n",
       "      <td>1</td>\n",
       "      <td>1.649445e+12</td>\n",
       "      <td>86.285714</td>\n",
       "      <td>NaN</td>\n",
       "      <td>NaN</td>\n",
       "      <td>NaN</td>\n",
       "      <td>NaN</td>\n",
       "    </tr>\n",
       "    <tr>\n",
       "      <td>2</td>\n",
       "      <td>1.649445e+12</td>\n",
       "      <td>86.571429</td>\n",
       "      <td>NaN</td>\n",
       "      <td>NaN</td>\n",
       "      <td>NaN</td>\n",
       "      <td>NaN</td>\n",
       "    </tr>\n",
       "    <tr>\n",
       "      <td>3</td>\n",
       "      <td>1.649445e+12</td>\n",
       "      <td>86.857143</td>\n",
       "      <td>NaN</td>\n",
       "      <td>NaN</td>\n",
       "      <td>NaN</td>\n",
       "      <td>NaN</td>\n",
       "    </tr>\n",
       "    <tr>\n",
       "      <td>4</td>\n",
       "      <td>1.649445e+12</td>\n",
       "      <td>87.142857</td>\n",
       "      <td>NaN</td>\n",
       "      <td>NaN</td>\n",
       "      <td>NaN</td>\n",
       "      <td>NaN</td>\n",
       "    </tr>\n",
       "    <tr>\n",
       "      <td>...</td>\n",
       "      <td>...</td>\n",
       "      <td>...</td>\n",
       "      <td>...</td>\n",
       "      <td>...</td>\n",
       "      <td>...</td>\n",
       "      <td>...</td>\n",
       "    </tr>\n",
       "    <tr>\n",
       "      <td>10981</td>\n",
       "      <td>1.650103e+12</td>\n",
       "      <td>79.000000</td>\n",
       "      <td>1.650101e+12</td>\n",
       "      <td>1.650104e+12</td>\n",
       "      <td>2460000.0</td>\n",
       "      <td>True</td>\n",
       "    </tr>\n",
       "    <tr>\n",
       "      <td>10982</td>\n",
       "      <td>1.650103e+12</td>\n",
       "      <td>79.000000</td>\n",
       "      <td>1.650101e+12</td>\n",
       "      <td>1.650104e+12</td>\n",
       "      <td>2460000.0</td>\n",
       "      <td>True</td>\n",
       "    </tr>\n",
       "    <tr>\n",
       "      <td>10983</td>\n",
       "      <td>1.650103e+12</td>\n",
       "      <td>79.000000</td>\n",
       "      <td>1.650101e+12</td>\n",
       "      <td>1.650104e+12</td>\n",
       "      <td>2460000.0</td>\n",
       "      <td>True</td>\n",
       "    </tr>\n",
       "    <tr>\n",
       "      <td>10984</td>\n",
       "      <td>1.650104e+12</td>\n",
       "      <td>79.000000</td>\n",
       "      <td>1.650101e+12</td>\n",
       "      <td>1.650104e+12</td>\n",
       "      <td>2460000.0</td>\n",
       "      <td>True</td>\n",
       "    </tr>\n",
       "    <tr>\n",
       "      <td>10985</td>\n",
       "      <td>1.650104e+12</td>\n",
       "      <td>79.000000</td>\n",
       "      <td>1.650101e+12</td>\n",
       "      <td>1.650104e+12</td>\n",
       "      <td>2460000.0</td>\n",
       "      <td>True</td>\n",
       "    </tr>\n",
       "  </tbody>\n",
       "</table>\n",
       "<p>10986 rows × 6 columns</p>\n",
       "</div>"
      ],
      "text/plain": [
       "          timeNanos      value  startTimeNanos  endTimeNanos   duration  \\\n",
       "0      1.649444e+12  86.000000             NaN           NaN        NaN   \n",
       "1      1.649445e+12  86.285714             NaN           NaN        NaN   \n",
       "2      1.649445e+12  86.571429             NaN           NaN        NaN   \n",
       "3      1.649445e+12  86.857143             NaN           NaN        NaN   \n",
       "4      1.649445e+12  87.142857             NaN           NaN        NaN   \n",
       "...             ...        ...             ...           ...        ...   \n",
       "10981  1.650103e+12  79.000000    1.650101e+12  1.650104e+12  2460000.0   \n",
       "10982  1.650103e+12  79.000000    1.650101e+12  1.650104e+12  2460000.0   \n",
       "10983  1.650103e+12  79.000000    1.650101e+12  1.650104e+12  2460000.0   \n",
       "10984  1.650104e+12  79.000000    1.650101e+12  1.650104e+12  2460000.0   \n",
       "10985  1.650104e+12  79.000000    1.650101e+12  1.650104e+12  2460000.0   \n",
       "\n",
       "      isSleep  \n",
       "0         NaN  \n",
       "1         NaN  \n",
       "2         NaN  \n",
       "3         NaN  \n",
       "4         NaN  \n",
       "...       ...  \n",
       "10981    True  \n",
       "10982    True  \n",
       "10983    True  \n",
       "10984    True  \n",
       "10985    True  \n",
       "\n",
       "[10986 rows x 6 columns]"
      ]
     },
     "execution_count": 208,
     "metadata": {},
     "output_type": "execute_result"
    }
   ],
   "source": [
    "df.loc[:10985]"
   ]
  },
  {
   "cell_type": "code",
   "execution_count": null,
   "metadata": {},
   "outputs": [],
   "source": []
  }
 ],
 "metadata": {
  "kernelspec": {
   "display_name": "Python 3",
   "language": "python",
   "name": "python3"
  },
  "language_info": {
   "codemirror_mode": {
    "name": "ipython",
    "version": 3
   },
   "file_extension": ".py",
   "mimetype": "text/x-python",
   "name": "python",
   "nbconvert_exporter": "python",
   "pygments_lexer": "ipython3",
   "version": "3.7.4"
  }
 },
 "nbformat": 4,
 "nbformat_minor": 2
}
